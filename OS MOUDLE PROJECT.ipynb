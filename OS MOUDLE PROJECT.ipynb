{
 "cells": [
  {
   "cell_type": "code",
   "execution_count": 6,
   "id": "9b6f805f",
   "metadata": {},
   "outputs": [
    {
     "name": "stdout",
     "output_type": "stream",
     "text": [
      "\n",
      "1: create a dir\n",
      "2:Print a dir\n",
      "3:Remove a file/directory\n",
      "4.Exit\n",
      "\n",
      "Choose Option-: 1\n",
      "Enter the dir name: asdf\n",
      "Directory created asdf\n",
      "\n",
      "1: create a dir\n",
      "2:Print a dir\n",
      "3:Remove a file/directory\n",
      "4.Exit\n",
      "\n",
      "Choose Option-: 3\n",
      "Enter the directory to remove:- asdf\n",
      "\n",
      "1: create a dir\n",
      "2:Print a dir\n",
      "3:Remove a file/directory\n",
      "4.Exit\n",
      "\n",
      "Choose Option-: 4\n"
     ]
    }
   ],
   "source": [
    "from os import mkdir,listdir,remove, rmdir\n",
    "while True :\n",
    " \n",
    "    choice = int(input(\"\\n1: create a dir\\n2:Print a dir\\n3:Remove a file/directory\\n4.Exit\\n\\nChoose Option-: \"))\n",
    " \n",
    "    if choice == 1 :\n",
    "        folder = input('Enter the dir name: ')\n",
    "        mkdir(folder,int('700',8))\n",
    "        print(\"Directory created \"+folder)\n",
    " \n",
    "    if choice == 2:\n",
    "        folder = input(\"Enter the directory to browser: \")\n",
    "        contents = listdir(folder)\n",
    "\n",
    "        for f in contents :\n",
    "                print(f)\n",
    " \n",
    "    if choice == 3:\n",
    "        folder = input('Enter the directory to remove:- ')\n",
    "        rmdir(folder)\n",
    "\n",
    "    if choice==4:\n",
    "        break"
   ]
  },
  {
   "cell_type": "code",
   "execution_count": null,
   "id": "fa4434b4",
   "metadata": {},
   "outputs": [],
   "source": []
  }
 ],
 "metadata": {
  "kernelspec": {
   "display_name": "Python 3 (ipykernel)",
   "language": "python",
   "name": "python3"
  },
  "language_info": {
   "codemirror_mode": {
    "name": "ipython",
    "version": 3
   },
   "file_extension": ".py",
   "mimetype": "text/x-python",
   "name": "python",
   "nbconvert_exporter": "python",
   "pygments_lexer": "ipython3",
   "version": "3.9.12"
  }
 },
 "nbformat": 4,
 "nbformat_minor": 5
}
